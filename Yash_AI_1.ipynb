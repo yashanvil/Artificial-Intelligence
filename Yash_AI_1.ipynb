{
  "nbformat": 4,
  "nbformat_minor": 0,
  "metadata": {
    "kernelspec": {
      "name": "python3",
      "display_name": "Python 3"
    },
    "language_info": {
      "codemirror_mode": {
        "name": "ipython",
        "version": 3
      },
      "file_extension": ".py",
      "mimetype": "text/x-python",
      "name": "python",
      "nbconvert_exporter": "python",
      "pygments_lexer": "ipython3",
      "version": "3.6.1"
    },
    "colab": {
      "name": "Yash_AI_1.ipynb",
      "provenance": [],
      "collapsed_sections": []
    },
    "accelerator": "GPU"
  },
  "cells": [
    {
      "cell_type": "markdown",
      "metadata": {
        "id": "IdnsT8VYCSYF",
        "colab_type": "text"
      },
      "source": [
        "## COMP5623 Coursework on Image Classification with Convolutional Neural Networks \n",
        "\n",
        "Starter code."
      ]
    },
    {
      "cell_type": "code",
      "metadata": {
        "id": "eKS20wjsCSYI",
        "colab_type": "code",
        "colab": {}
      },
      "source": [
        "import torch\n",
        "import torchvision\n",
        "import torch.optim as optim\n",
        "import torch.nn as nn\n",
        "import torchvision.transforms as transforms\n",
        "from  torch.utils.data import Dataset\n",
        "import torch.nn.functional as F\n",
        "\n",
        "from sklearn.metrics import confusion_matrix\n",
        "from skimage import io, transform\n",
        "from torch.utils.data import Dataset, DataLoader\n",
        "\n",
        "import matplotlib.pyplot as plt\n",
        "from tqdm import tqdm\n",
        "from PIL import Image\n",
        "import pandas as pd\n",
        "import numpy as np\n",
        "import csv\n",
        "import os\n",
        "import math\n",
        "import cv2"
      ],
      "execution_count": 0,
      "outputs": []
    },
    {
      "cell_type": "markdown",
      "metadata": {
        "id": "IpRGGlofCSYM",
        "colab_type": "text"
      },
      "source": [
        "### Part I\n",
        "\n",
        "The first part of the assignment is to build a CNN and train it on a subset of the ImageNet dataset. We will first create a dataframe with all the references to the images and their labels.\n",
        "\n",
        "To download the images into your work environment, clone into a git respository containing the images."
      ]
    },
    {
      "cell_type": "code",
      "metadata": {
        "id": "EqhQboSCCSYN",
        "colab_type": "code",
        "outputId": "fbe3751f-60b8-4b8f-c1fd-0b8aab1a6a82",
        "colab": {
          "base_uri": "https://localhost:8080/",
          "height": 54
        }
      },
      "source": [
        "! git clone https://github.com/MohammedAlghamdi/imagenet10.git"
      ],
      "execution_count": 2,
      "outputs": [
        {
          "output_type": "stream",
          "text": [
            "fatal: destination path 'imagenet10' already exists and is not an empty directory.\n"
          ],
          "name": "stdout"
        }
      ]
    },
    {
      "cell_type": "markdown",
      "metadata": {
        "id": "8edZnYShg7M1",
        "colab_type": "text"
      },
      "source": [
        "Check that the repository is there:"
      ]
    },
    {
      "cell_type": "code",
      "metadata": {
        "id": "i2RIZGHaCVAC",
        "colab_type": "code",
        "outputId": "bfa04209-973b-4745-e348-cbe050b00605",
        "colab": {
          "base_uri": "https://localhost:8080/",
          "height": 34
        }
      },
      "source": [
        "! ls"
      ],
      "execution_count": 3,
      "outputs": [
        {
          "output_type": "stream",
          "text": [
            "imagenet10  myinit_model.pt  sample_data\n"
          ],
          "name": "stdout"
        }
      ]
    },
    {
      "cell_type": "code",
      "metadata": {
        "id": "47tv-wIQCTcS",
        "colab_type": "code",
        "colab": {}
      },
      "source": [
        "root_dir = \"imagenet10/train_set/\"\n",
        "class_names = [\n",
        "  \"baboon\",\n",
        "  \"banana\",\n",
        "  \"canoe\",\n",
        "  \"cat\",\n",
        "  \"desk\",\n",
        "  \"drill\",\n",
        "  \"dumbbell\",\n",
        "  \"football\",\n",
        "  \"mug\",\n",
        "  \"orange\",\n",
        "]"
      ],
      "execution_count": 0,
      "outputs": []
    },
    {
      "cell_type": "markdown",
      "metadata": {
        "id": "L6oMdWl5CSYR",
        "colab_type": "text"
      },
      "source": [
        "A helper function for reading in images and assigning labels."
      ]
    },
    {
      "cell_type": "code",
      "metadata": {
        "id": "tQfcD3jyCSYT",
        "colab_type": "code",
        "colab": {}
      },
      "source": [
        "def get_meta(root_dir, dirs):\n",
        "    \"\"\" Fetches the meta data for all the images and assigns labels.\n",
        "    \"\"\"\n",
        "    paths, classes = [], []\n",
        "    for i, dir_ in enumerate(dirs):\n",
        "        for entry in os.scandir(root_dir + dir_):\n",
        "            if (entry.is_file()):\n",
        "                paths.append(entry.path)\n",
        "                classes.append(i)\n",
        "                \n",
        "    return paths, classes"
      ],
      "execution_count": 0,
      "outputs": []
    },
    {
      "cell_type": "markdown",
      "metadata": {
        "id": "0J967KW0CSYX",
        "colab_type": "text"
      },
      "source": [
        "Now we create a dataframe using all the data."
      ]
    },
    {
      "cell_type": "code",
      "metadata": {
        "id": "8gDPs1NCCSYY",
        "colab_type": "code",
        "colab": {}
      },
      "source": [
        "# Benign images we will assign class 0, and malignant as 1\n",
        "paths, classes = get_meta(root_dir, class_names)\n",
        "\n",
        "data = {\n",
        "    'path': paths,\n",
        "    'class': classes\n",
        "}\n",
        "\n",
        "data_df = pd.DataFrame(data, columns=['path', 'class'])\n",
        "data_df = data_df.sample(frac=1).reset_index(drop=True) # Shuffles the data"
      ],
      "execution_count": 0,
      "outputs": []
    },
    {
      "cell_type": "markdown",
      "metadata": {
        "id": "jRUDj3WihItY",
        "colab_type": "text"
      },
      "source": [
        "View some sample data."
      ]
    },
    {
      "cell_type": "code",
      "metadata": {
        "id": "mK2GPzfVCSYc",
        "colab_type": "code",
        "outputId": "3227c26a-b7c8-4505-ad12-b1a81dca966c",
        "colab": {
          "base_uri": "https://localhost:8080/",
          "height": 221
        }
      },
      "source": [
        "print(\"Found\", len(data_df), \"images.\")\n",
        "data_df.head()"
      ],
      "execution_count": 7,
      "outputs": [
        {
          "output_type": "stream",
          "text": [
            "Found 9000 images.\n"
          ],
          "name": "stdout"
        },
        {
          "output_type": "execute_result",
          "data": {
            "text/html": [
              "<div>\n",
              "<style scoped>\n",
              "    .dataframe tbody tr th:only-of-type {\n",
              "        vertical-align: middle;\n",
              "    }\n",
              "\n",
              "    .dataframe tbody tr th {\n",
              "        vertical-align: top;\n",
              "    }\n",
              "\n",
              "    .dataframe thead th {\n",
              "        text-align: right;\n",
              "    }\n",
              "</style>\n",
              "<table border=\"1\" class=\"dataframe\">\n",
              "  <thead>\n",
              "    <tr style=\"text-align: right;\">\n",
              "      <th></th>\n",
              "      <th>path</th>\n",
              "      <th>class</th>\n",
              "    </tr>\n",
              "  </thead>\n",
              "  <tbody>\n",
              "    <tr>\n",
              "      <th>0</th>\n",
              "      <td>imagenet10/train_set/orange/n07747607_10693.JPEG</td>\n",
              "      <td>9</td>\n",
              "    </tr>\n",
              "    <tr>\n",
              "      <th>1</th>\n",
              "      <td>imagenet10/train_set/dumbbell/n03255030_11547....</td>\n",
              "      <td>6</td>\n",
              "    </tr>\n",
              "    <tr>\n",
              "      <th>2</th>\n",
              "      <td>imagenet10/train_set/banana/n07753592_19976.JPEG</td>\n",
              "      <td>1</td>\n",
              "    </tr>\n",
              "    <tr>\n",
              "      <th>3</th>\n",
              "      <td>imagenet10/train_set/canoe/n02951358_12537.JPEG</td>\n",
              "      <td>2</td>\n",
              "    </tr>\n",
              "    <tr>\n",
              "      <th>4</th>\n",
              "      <td>imagenet10/train_set/football/n04254680_8599.JPEG</td>\n",
              "      <td>7</td>\n",
              "    </tr>\n",
              "  </tbody>\n",
              "</table>\n",
              "</div>"
            ],
            "text/plain": [
              "                                                path  class\n",
              "0   imagenet10/train_set/orange/n07747607_10693.JPEG      9\n",
              "1  imagenet10/train_set/dumbbell/n03255030_11547....      6\n",
              "2   imagenet10/train_set/banana/n07753592_19976.JPEG      1\n",
              "3    imagenet10/train_set/canoe/n02951358_12537.JPEG      2\n",
              "4  imagenet10/train_set/football/n04254680_8599.JPEG      7"
            ]
          },
          "metadata": {
            "tags": []
          },
          "execution_count": 7
        }
      ]
    },
    {
      "cell_type": "markdown",
      "metadata": {
        "id": "Ai3uvziWCSYh",
        "colab_type": "text"
      },
      "source": [
        "Now we will create the Dataset class."
      ]
    },
    {
      "cell_type": "code",
      "metadata": {
        "id": "EyUb-rzQCSYi",
        "colab_type": "code",
        "colab": {}
      },
      "source": [
        "class ImageNet10(Dataset):\n",
        "    \"\"\" ImageNet10 dataset. \"\"\"\n",
        "\n",
        "    def __init__(self, df, transform=None):\n",
        "        \"\"\"\n",
        "        Args:\n",
        "            image_dir (string): Directory with all the images\n",
        "            df (DataFrame object): Dataframe containing the images, paths and classes\n",
        "            transform (callable, optional): Optional transform to be applied\n",
        "                on a sample.\n",
        "        \"\"\"\n",
        "        self.df = df\n",
        "        self.transform = transform\n",
        "\n",
        "    def __len__(self):\n",
        "        return len(self.df)\n",
        "\n",
        "    def __getitem__(self, index):\n",
        "        # Load image from path and get label\n",
        "        x = Image.open(self.df['path'][index])\n",
        "        try:\n",
        "          x = x.convert('RGB') # To deal with some grayscale images in the data\n",
        "        except:\n",
        "          pass\n",
        "        y = torch.tensor(int(self.df['class'][index]))\n",
        "\n",
        "        if self.transform:\n",
        "            x = self.transform(x)\n",
        "\n",
        "        return x, y"
      ],
      "execution_count": 0,
      "outputs": []
    },
    {
      "cell_type": "markdown",
      "metadata": {
        "id": "vqtRjBozCSYk",
        "colab_type": "text"
      },
      "source": [
        "Compute what we should normalise the dataset to."
      ]
    },
    {
      "cell_type": "code",
      "metadata": {
        "id": "pPqfMPuZCSYl",
        "colab_type": "code",
        "colab": {}
      },
      "source": [
        "def compute_img_mean_std(image_paths):\n",
        "    \"\"\"\n",
        "        Author: @xinruizhuang. Computing the mean and std of three channel on the whole dataset,\n",
        "        first we should normalize the image from 0-255 to 0-1\n",
        "    \"\"\"\n",
        "    img_h, img_w = 224, 224\n",
        "    imgs = []\n",
        "    means, stdevs = [], []\n",
        "\n",
        "    for i in tqdm(range(len(image_paths))):\n",
        "        img = cv2.imread(image_paths[i])\n",
        "        img = cv2.resize(img, (img_h, img_w))\n",
        "        imgs.append(img)\n",
        "\n",
        "    imgs = np.stack(imgs, axis=3)\n",
        "    print(imgs.shape)\n",
        "\n",
        "    imgs = imgs.astype(np.float32) / 255.\n",
        "\n",
        "    for i in range(3):\n",
        "        pixels = imgs[:, :, i, :].ravel()  # resize to one row\n",
        "        means.append(np.mean(pixels))\n",
        "        stdevs.append(np.std(pixels))\n",
        "\n",
        "\n",
        "    means.reverse()  # BGR --> RGB\n",
        "    stdevs.reverse()\n",
        "\n",
        "    print(\"normMean = {}\".format(means))\n",
        "    print(\"normStd = {}\".format(stdevs))\n",
        "    return means, stdevs\n"
      ],
      "execution_count": 0,
      "outputs": []
    },
    {
      "cell_type": "code",
      "metadata": {
        "id": "-_1KSGUe4sEW",
        "colab_type": "code",
        "outputId": "22c9705c-788c-445a-f417-79317e922f71",
        "colab": {
          "base_uri": "https://localhost:8080/",
          "height": 85
        }
      },
      "source": [
        "norm_mean, norm_std = compute_img_mean_std(paths)"
      ],
      "execution_count": 10,
      "outputs": [
        {
          "output_type": "stream",
          "text": [
            "100%|██████████| 9000/9000 [00:43<00:00, 207.39it/s]\n"
          ],
          "name": "stderr"
        },
        {
          "output_type": "stream",
          "text": [
            "(224, 224, 3, 9000)\n",
            "normMean = [0.5228359, 0.4798834, 0.40605333]\n",
            "normStd = [0.29770732, 0.28883994, 0.31178218]\n"
          ],
          "name": "stdout"
        }
      ]
    },
    {
      "cell_type": "markdown",
      "metadata": {
        "id": "RqrG3FCUCSYo",
        "colab_type": "text"
      },
      "source": [
        "Now let's create the transforms to normalise and turn our data into tensors."
      ]
    },
    {
      "cell_type": "code",
      "metadata": {
        "id": "OVeZpgM-CSYq",
        "colab_type": "code",
        "colab": {}
      },
      "source": [
        "data_transform = transforms.Compose([\n",
        "        transforms.Resize(256),\n",
        "        transforms.CenterCrop(256),\n",
        "        transforms.ToTensor(),\n",
        "        transforms.Normalize(norm_mean, norm_std),\n",
        "    ])"
      ],
      "execution_count": 0,
      "outputs": []
    },
    {
      "cell_type": "markdown",
      "metadata": {
        "id": "cAPzCfr2CSYt",
        "colab_type": "text"
      },
      "source": [
        "Let's split the data into train and test sets and instantiate our new ISIC_Dataset objects."
      ]
    },
    {
      "cell_type": "code",
      "metadata": {
        "id": "POCexxXjCSYu",
        "colab_type": "code",
        "colab": {}
      },
      "source": [
        "torch.manual_seed(0)\n",
        "train_split = 0.70 # Defines the ratio of train/valid/test data.\n",
        "valid_split = 0.10\n",
        "\n",
        "train_size = int(len(data_df)*train_split)\n",
        "valid_size = int(len(data_df)*valid_split)\n",
        "\n",
        "ins_dataset_train = ImageNet10(\n",
        "    df=data_df[:train_size],\n",
        "    transform=data_transform,\n",
        ")\n",
        "\n",
        "ins_dataset_valid = ImageNet10(\n",
        "    df=data_df[train_size:(train_size + valid_size)].reset_index(drop=True),\n",
        "    transform=data_transform,\n",
        ")\n",
        "\n",
        "ins_dataset_test = ImageNet10(\n",
        "    df=data_df[(train_size + valid_size):].reset_index(drop=True),\n",
        "    transform=data_transform,\n",
        ")"
      ],
      "execution_count": 0,
      "outputs": []
    },
    {
      "cell_type": "markdown",
      "metadata": {
        "id": "PzVfNzvmhTGJ",
        "colab_type": "text"
      },
      "source": [
        "You will need to create DataLoaders for the datasets."
      ]
    },
    {
      "cell_type": "code",
      "metadata": {
        "id": "_womtSmIhgSj",
        "colab_type": "code",
        "colab": {}
      },
      "source": [
        "\n",
        "train_loader = torch.utils.data.DataLoader(\n",
        "    ins_dataset_train,\n",
        "    batch_size=16,\n",
        "    shuffle=True,\n",
        "    num_workers=2\n",
        ")\n",
        "\n",
        "valid_loader = torch.utils.data.DataLoader(\n",
        "    ins_dataset_valid,\n",
        "    batch_size=16,\n",
        "    shuffle=True,\n",
        "    num_workers=2\n",
        ")\n",
        "\n",
        "test_loader = torch.utils.data.DataLoader(\n",
        "    ins_dataset_test,\n",
        "    batch_size=24, # Forward pass only so batch size can be larger\n",
        "    shuffle=False,\n",
        "    num_workers=2\n",
        ")\n",
        "\n",
        "classes = np.arange(0, 10)"
      ],
      "execution_count": 0,
      "outputs": []
    },
    {
      "cell_type": "markdown",
      "metadata": {
        "id": "X00vuzPWhY5h",
        "colab_type": "text"
      },
      "source": [
        "# ConvNet Model"
      ]
    },
    {
      "cell_type": "code",
      "metadata": {
        "id": "3B5x07o3CSY7",
        "colab_type": "code",
        "colab": {}
      },
      "source": [
        "# Convolutional neural network\n",
        "class ConvNet(nn.Module):\n",
        "    \n",
        "    def __init__(self, num_classes=10):\n",
        "        super(ConvNet, self).__init__()\n",
        "  \n",
        "        # Add network layers here\n",
        "        self.conv1 = nn.Sequential(\n",
        "        nn.Conv2d(3,16,3),\n",
        "        nn.ReLU(),\n",
        "        nn.MaxPool2d(2),\n",
        "        nn.Dropout2d(p=0.1)\n",
        "        )\n",
        "\n",
        "        self.conv2 = nn.Sequential(\n",
        "        nn.Conv2d(16,32,4),\n",
        "        nn.ReLU(),\n",
        "        nn.MaxPool2d(2),\n",
        "        nn.Dropout2d(p=0.1)\n",
        "        )\n",
        "\n",
        "        self.conv3 = nn.Sequential(\n",
        "        nn.Conv2d(32,64,4),\n",
        "        nn.ReLU(),\n",
        "        nn.MaxPool2d(2),\n",
        "        nn.Dropout2d(p=0.1)\n",
        "        )\n",
        "\n",
        "        self.conv4 = nn.Sequential(\n",
        "        nn.Conv2d(64,128,4),\n",
        "        nn.ReLU(),\n",
        "        nn.MaxPool2d(2),\n",
        "        nn.Dropout2d(p=0.1)\n",
        "        )\n",
        "\n",
        "        # self.conv5 = nn.Sequential(\n",
        "        # nn.Conv2d(48,64,4),\n",
        "        # nn.ReLU(),\n",
        "        # nn.MaxPool2d(2),\n",
        "        # nn.Dropout2d(p=0.3)\n",
        "        # )\n",
        "\n",
        "\n",
        "        self.linear_layer = nn.Sequential(\n",
        "        nn.Linear(21632, 512),  #26912=32*29*29   for 2 layers: 92256  4 layers: 8112 5 layers: 1600\n",
        "        nn.Linear(512, num_classes),\n",
        "            #nn.Softmax(dim=1)\n",
        "        )\n",
        "        \n",
        "    def forward(self, x):\n",
        "        out = self.conv1(x)\n",
        "        out = self.conv2(out)\n",
        "        out = self.conv3(out)\n",
        "        out = self.conv4(out)\n",
        "        # out = self.conv5(out)\n",
        "        # print(out)\n",
        "        out = out.reshape(out.size(0),-1)\n",
        "        out = self.linear_layer(out)\n",
        "        # Complete the graph\n",
        "        return out"
      ],
      "execution_count": 0,
      "outputs": []
    },
    {
      "cell_type": "code",
      "metadata": {
        "id": "CtGtkq164wEE",
        "colab_type": "code",
        "colab": {}
      },
      "source": [
        "device = torch.device('cuda:0' if torch.cuda.is_available() else 'cpu')\n",
        "\n",
        "model_gpu = ConvNet().to(device)\n",
        "criterion = nn.CrossEntropyLoss()\n",
        "\n",
        "# Stochastic gradient \"assumes a 4D tensor\")descent\n",
        "optimizer = optim.SGD(model_gpu.parameters(), lr=0.001, momentum=0.9)"
      ],
      "execution_count": 0,
      "outputs": []
    },
    {
      "cell_type": "markdown",
      "metadata": {
        "id": "mAbYfZIn8g2P",
        "colab_type": "text"
      },
      "source": [
        "# Question2: Visualization for different channels"
      ]
    },
    {
      "cell_type": "code",
      "metadata": {
        "id": "O9GYx0lDp627",
        "colab_type": "code",
        "colab": {}
      },
      "source": [
        "def set_filters():\n",
        "  model = model_gpu.cpu().double()\n",
        "  filters = model.modules\n",
        "  body_model = [i for i in model.children()][0]\n",
        "  layer1 = body_model[0]    \n",
        "  tensor = layer1.weight.data.numpy() \n",
        "  return tensor"
      ],
      "execution_count": 0,
      "outputs": []
    },
    {
      "cell_type": "code",
      "metadata": {
        "colab_type": "code",
        "id": "L8WIAM_pfq0o",
        "colab": {}
      },
      "source": [
        "def vis_all_filters(channel):\n",
        "  \n",
        "  filters = set_filters()\n",
        "  if not filters.ndim==4:\n",
        "      raise Exception(\"assumes a 4D tensor\")\n",
        "  if not filters.shape[-1]==3:\n",
        "      raise Exception(\"last dim needs to be 3 to plot\")\n",
        "  num_kernels = filters.shape[0]\n",
        "  num_cols=6\n",
        "  num_rows = 1+ num_kernels // num_cols\n",
        "  fig = plt.figure(figsize=(num_cols,num_rows))\n",
        "  \n",
        "  for i in range(filters.shape[0]):\n",
        "      ax1 = fig.add_subplot(num_rows,num_cols,i+1)\n",
        "      ax1.imshow(filters[i][channel], cmap=\"gray\")\n",
        "      ax1.axis('off')\n",
        "      ax1.set_xticklabels([])\n",
        "      ax1.set_yticklabels([])\n",
        "\n",
        "  plt.subplots_adjust(wspace=0.1, hspace=0.1)\n",
        "  plt.show()\n"
      ],
      "execution_count": 0,
      "outputs": []
    },
    {
      "cell_type": "code",
      "metadata": {
        "id": "yNruHrtlhcBo",
        "colab_type": "code",
        "colab": {}
      },
      "source": [
        "def vis_filters():\n",
        "    print(\"Red Filter:\\n\")\n",
        "    vis_all_filters(0)\n",
        "    print(\"Green Filter:\\n\")\n",
        "    vis_all_filters(1)\n",
        "    print(\"Blue Filter:\\n\")\n",
        "    vis_all_filters(2)\n",
        "\n",
        "    if torch.cuda.is_available():\n",
        "        model_gpu.cuda().float()"
      ],
      "execution_count": 0,
      "outputs": []
    },
    {
      "cell_type": "markdown",
      "metadata": {
        "id": "PnlddowogaB4",
        "colab_type": "text"
      },
      "source": [
        "Visualization before training"
      ]
    },
    {
      "cell_type": "code",
      "metadata": {
        "id": "FPG7Q7W1gdP9",
        "colab_type": "code",
        "outputId": "9627c3e6-65c8-42b8-8ef5-c51e5837eac2",
        "colab": {
          "base_uri": "https://localhost:8080/",
          "height": 650
        }
      },
      "source": [
        "vis_filters()"
      ],
      "execution_count": 90,
      "outputs": [
        {
          "output_type": "stream",
          "text": [
            "Red Filter:\n",
            "\n"
          ],
          "name": "stdout"
        },
        {
          "output_type": "display_data",
          "data": {
            "image/png": "[encoded data removed]",
            "text/plain": [
              "<Figure size 432x216 with 16 Axes>"
            ]
          },
          "metadata": {
            "tags": []
          }
        },
        {
          "output_type": "stream",
          "text": [
            "Green Filter:\n",
            "\n"
          ],
          "name": "stdout"
        },
        {
          "output_type": "display_data",
          "data": {
            "image/png": "[encoded data removed]",
            "text/plain": [
              "<Figure size 432x216 with 16 Axes>"
            ]
          },
          "metadata": {
            "tags": []
          }
        },
        {
          "output_type": "stream",
          "text": [
            "Blue Filter:\n",
            "\n"
          ],
          "name": "stdout"
        },
        {
          "output_type": "display_data",
          "data": {
            "image/png": "[encoded data removed]",
            "text/plain": [
              "<Figure size 432x216 with 16 Axes>"
            ]
          },
          "metadata": {
            "tags": []
          }
        }
      ]
    },
    {
      "cell_type": "code",
      "metadata": {
        "id": "6fq3hndyNCaR",
        "colab_type": "code",
        "colab": {}
      },
      "source": [
        "training_loss = []\n",
        "validation_loss = []\n",
        "def train_model_epochs2(num_epochs):\n",
        "    \"\"\" Trains the network for a given number of epochs on training sets.\"\"\"\n",
        "    \n",
        "    for epoch in range(num_epochs):\n",
        "        valid_loss = 0.0\n",
        "        train_loss = 0.0\n",
        "\n",
        "        # Visualising filters\n",
        "        middle = num_epochs/2\n",
        "        if epoch == round(middle):\n",
        "          vis_filters()\n",
        "        running_loss = 0.0\n",
        "        for i, data in enumerate(train_loader, 0):\n",
        "            images, labels = data\n",
        "\n",
        "            # Explicitly specifies that data is to be copied onto the device!\n",
        "            images = images.to(device)  # <----------- And note it's NOT an in-place operation; original\n",
        "            labels = labels.to(device)  # <----------- variables still exist on CPU\n",
        "\n",
        "            optimizer.zero_grad()\n",
        "            outputs = model_gpu(images)\n",
        "\n",
        "            loss = criterion(outputs, labels)\n",
        "            loss.backward()\n",
        "\n",
        "            optimizer.step()\n",
        "            running_loss += loss.item()\n",
        "            train_loss += loss.item()\n",
        "\n",
        "            if i % 10 == 9:    # prinalset every 1000 mini-batches\n",
        "                print('Epoch / Batch [%d / %d] - Loss: %.3f' %\n",
        "                      (epoch + 1, i + 1, running_loss / 10))\n",
        "                running_loss = 0.0\n",
        "     \n",
        "        training_loss.append(train_loss/len(train_loader))\n",
        "        for i, data in enumerate(valid_loader, 0):\n",
        "            images, labels = data\n",
        "\n",
        "            # Explicitly specifies that data is to be copied onto the device!\n",
        "            images = images.to(device)  # <----------- And note it's NOT an in-place operation; original\n",
        "            labels = labels.to(device)  # <----------- variables still exist on CPU\n",
        "\n",
        "            optimizer.zero_grad()\n",
        "            outputs = model_gpu(images)\n",
        "\n",
        "            loss = criterion(outputs, labels)\n",
        "            \n",
        "            running_loss += loss.item()\n",
        "            valid_loss += loss.item()\n",
        "            \n",
        "            if i % 10 == 9:    # print every 10 mini-batches\n",
        "                print('Epoch / Batch [%d / %d] - Validation Loss: %.3f' %\n",
        "                      (epoch + 1, i + 1, running_loss / 10))\n",
        "                running_loss = 0.0\n",
        "        # print(\"Validation Loss\", running_loss/valid_loss)\n",
        "        validation_loss.append(valid_loss/len(valid_loader))\n",
        "\n",
        "   "
      ],
      "execution_count": 0,
      "outputs": []
    },
    {
      "cell_type": "code",
      "metadata": {
        "id": "2UyKM5Z9NCaU",
        "colab_type": "code",
        "outputId": "586feec0-ca82-4795-d216-bce4c2637fcd",
        "colab": {
          "base_uri": "https://localhost:8080/",
          "height": 1000
        }
      },
      "source": [
        "import timeit\n",
        "gpu_train_time = timeit.timeit(\n",
        "     \"train_model_epochs2(num_epochs)\",\n",
        "     setup=\"num_epochs=12\",\n",
        "     number=1,\n",
        "     globals=globals(),\n",
        " )"
      ],
      "execution_count": 92,
      "outputs": [
        {
          "output_type": "stream",
          "text": [
            "Epoch / Batch [1 / 10] - Loss: 2.304\n",
            "Epoch / Batch [1 / 20] - Loss: 2.301\n",
            "Epoch / Batch [1 / 30] - Loss: 2.299\n",
            "Epoch / Batch [1 / 40] - Loss: 2.306\n",
            "Epoch / Batch [1 / 50] - Loss: 2.297\n",
            "Epoch / Batch [1 / 60] - Loss: 2.297\n",
            "Epoch / Batch [1 / 70] - Loss: 2.286\n",
            "Epoch / Batch [1 / 80] - Loss: 2.293\n",
            "Epoch / Batch [1 / 90] - Loss: 2.289\n",
            "Epoch / Batch [1 / 100] - Loss: 2.274\n",
            "Epoch / Batch [1 / 110] - Loss: 2.267\n",
            "Epoch / Batch [1 / 120] - Loss: 2.260\n",
            "Epoch / Batch [1 / 130] - Loss: 2.249\n",
            "Epoch / Batch [1 / 140] - Loss: 2.213\n",
            "Epoch / Batch [1 / 150] - Loss: 2.185\n",
            "Epoch / Batch [1 / 160] - Loss: 2.129\n",
            "Epoch / Batch [1 / 170] - Loss: 2.060\n",
            "Epoch / Batch [1 / 180] - Loss: 2.049\n",
            "Epoch / Batch [1 / 190] - Loss: 2.070\n",
            "Epoch / Batch [1 / 200] - Loss: 2.183\n",
            "Epoch / Batch [1 / 210] - Loss: 2.076\n",
            "Epoch / Batch [1 / 220] - Loss: 2.050\n",
            "Epoch / Batch [1 / 230] - Loss: 1.927\n",
            "Epoch / Batch [1 / 240] - Loss: 2.105\n",
            "Epoch / Batch [1 / 250] - Loss: 2.031\n",
            "Epoch / Batch [1 / 260] - Loss: 2.088\n",
            "Epoch / Batch [1 / 270] - Loss: 2.046\n",
            "Epoch / Batch [1 / 280] - Loss: 1.978\n",
            "Epoch / Batch [1 / 290] - Loss: 2.039\n",
            "Epoch / Batch [1 / 300] - Loss: 1.934\n",
            "Epoch / Batch [1 / 310] - Loss: 2.007\n",
            "Epoch / Batch [1 / 320] - Loss: 1.987\n",
            "Epoch / Batch [1 / 330] - Loss: 2.006\n",
            "Epoch / Batch [1 / 340] - Loss: 1.873\n",
            "Epoch / Batch [1 / 350] - Loss: 1.975\n",
            "Epoch / Batch [1 / 360] - Loss: 1.906\n",
            "Epoch / Batch [1 / 370] - Loss: 1.985\n",
            "Epoch / Batch [1 / 380] - Loss: 2.028\n",
            "Epoch / Batch [1 / 390] - Loss: 1.991\n",
            "Epoch / Batch [1 / 10] - Validation Loss: 2.813\n",
            "Epoch / Batch [1 / 20] - Validation Loss: 2.036\n",
            "Epoch / Batch [1 / 30] - Validation Loss: 1.980\n",
            "Epoch / Batch [1 / 40] - Validation Loss: 1.883\n",
            "Epoch / Batch [1 / 50] - Validation Loss: 2.000\n",
            "Epoch / Batch [2 / 10] - Loss: 2.011\n",
            "Epoch / Batch [2 / 20] - Loss: 1.976\n",
            "Epoch / Batch [2 / 30] - Loss: 1.871\n",
            "Epoch / Batch [2 / 40] - Loss: 1.977\n",
            "Epoch / Batch [2 / 50] - Loss: 1.904\n",
            "Epoch / Batch [2 / 60] - Loss: 1.952\n",
            "Epoch / Batch [2 / 70] - Loss: 1.940\n",
            "Epoch / Batch [2 / 80] - Loss: 1.913\n",
            "Epoch / Batch [2 / 90] - Loss: 1.952\n",
            "Epoch / Batch [2 / 100] - Loss: 1.989\n",
            "Epoch / Batch [2 / 110] - Loss: 2.033\n",
            "Epoch / Batch [2 / 120] - Loss: 1.869\n",
            "Epoch / Batch [2 / 130] - Loss: 1.754\n",
            "Epoch / Batch [2 / 140] - Loss: 1.938\n",
            "Epoch / Batch [2 / 150] - Loss: 2.051\n",
            "Epoch / Batch [2 / 160] - Loss: 1.849\n",
            "Epoch / Batch [2 / 170] - Loss: 1.863\n",
            "Epoch / Batch [2 / 180] - Loss: 1.843\n",
            "Epoch / Batch [2 / 190] - Loss: 1.971\n",
            "Epoch / Batch [2 / 200] - Loss: 1.999\n",
            "Epoch / Batch [2 / 210] - Loss: 1.887\n",
            "Epoch / Batch [2 / 220] - Loss: 1.921\n",
            "Epoch / Batch [2 / 230] - Loss: 1.889\n",
            "Epoch / Batch [2 / 240] - Loss: 1.818\n",
            "Epoch / Batch [2 / 250] - Loss: 1.925\n",
            "Epoch / Batch [2 / 260] - Loss: 1.912\n",
            "Epoch / Batch [2 / 270] - Loss: 1.894\n",
            "Epoch / Batch [2 / 280] - Loss: 1.988\n",
            "Epoch / Batch [2 / 290] - Loss: 1.851\n",
            "Epoch / Batch [2 / 300] - Loss: 1.947\n",
            "Epoch / Batch [2 / 310] - Loss: 1.886\n",
            "Epoch / Batch [2 / 320] - Loss: 1.888\n",
            "Epoch / Batch [2 / 330] - Loss: 1.913\n",
            "Epoch / Batch [2 / 340] - Loss: 1.877\n",
            "Epoch / Batch [2 / 350] - Loss: 1.918\n",
            "Epoch / Batch [2 / 360] - Loss: 1.869\n",
            "Epoch / Batch [2 / 370] - Loss: 1.920\n",
            "Epoch / Batch [2 / 380] - Loss: 1.905\n",
            "Epoch / Batch [2 / 390] - Loss: 1.856\n",
            "Epoch / Batch [2 / 10] - Validation Loss: 2.727\n",
            "Epoch / Batch [2 / 20] - Validation Loss: 1.968\n",
            "Epoch / Batch [2 / 30] - Validation Loss: 1.907\n",
            "Epoch / Batch [2 / 40] - Validation Loss: 1.910\n",
            "Epoch / Batch [2 / 50] - Validation Loss: 1.908\n",
            "Epoch / Batch [3 / 10] - Loss: 1.940\n",
            "Epoch / Batch [3 / 20] - Loss: 1.768\n",
            "Epoch / Batch [3 / 30] - Loss: 1.889\n",
            "Epoch / Batch [3 / 40] - Loss: 1.860\n",
            "Epoch / Batch [3 / 50] - Loss: 1.886\n",
            "Epoch / Batch [3 / 60] - Loss: 1.862\n",
            "Epoch / Batch [3 / 70] - Loss: 1.882\n",
            "Epoch / Batch [3 / 80] - Loss: 1.847\n",
            "Epoch / Batch [3 / 90] - Loss: 1.776\n",
            "Epoch / Batch [3 / 100] - Loss: 1.816\n",
            "Epoch / Batch [3 / 110] - Loss: 1.729\n",
            "Epoch / Batch [3 / 120] - Loss: 1.978\n",
            "Epoch / Batch [3 / 130] - Loss: 1.738\n",
            "Epoch / Batch [3 / 140] - Loss: 1.822\n",
            "Epoch / Batch [3 / 150] - Loss: 1.910\n",
            "Epoch / Batch [3 / 160] - Loss: 1.770\n",
            "Epoch / Batch [3 / 170] - Loss: 1.853\n",
            "Epoch / Batch [3 / 180] - Loss: 1.897\n",
            "Epoch / Batch [3 / 190] - Loss: 1.797\n",
            "Epoch / Batch [3 / 200] - Loss: 1.708\n",
            "Epoch / Batch [3 / 210] - Loss: 1.752\n",
            "Epoch / Batch [3 / 220] - Loss: 1.707\n",
            "Epoch / Batch [3 / 230] - Loss: 1.943\n",
            "Epoch / Batch [3 / 240] - Loss: 1.720\n",
            "Epoch / Batch [3 / 250] - Loss: 1.900\n",
            "Epoch / Batch [3 / 260] - Loss: 1.802\n",
            "Epoch / Batch [3 / 270] - Loss: 1.931\n",
            "Epoch / Batch [3 / 280] - Loss: 1.871\n",
            "Epoch / Batch [3 / 290] - Loss: 1.867\n",
            "Epoch / Batch [3 / 300] - Loss: 2.068\n",
            "Epoch / Batch [3 / 310] - Loss: 1.754\n",
            "Epoch / Batch [3 / 320] - Loss: 1.842\n",
            "Epoch / Batch [3 / 330] - Loss: 1.823\n",
            "Epoch / Batch [3 / 340] - Loss: 1.802\n",
            "Epoch / Batch [3 / 350] - Loss: 1.781\n",
            "Epoch / Batch [3 / 360] - Loss: 1.852\n",
            "Epoch / Batch [3 / 370] - Loss: 1.863\n",
            "Epoch / Batch [3 / 380] - Loss: 1.696\n",
            "Epoch / Batch [3 / 390] - Loss: 1.732\n",
            "Epoch / Batch [3 / 10] - Validation Loss: 2.595\n",
            "Epoch / Batch [3 / 20] - Validation Loss: 1.675\n",
            "Epoch / Batch [3 / 30] - Validation Loss: 1.744\n",
            "Epoch / Batch [3 / 40] - Validation Loss: 1.751\n",
            "Epoch / Batch [3 / 50] - Validation Loss: 1.875\n",
            "Epoch / Batch [4 / 10] - Loss: 1.718\n",
            "Epoch / Batch [4 / 20] - Loss: 1.726\n",
            "Epoch / Batch [4 / 30] - Loss: 1.885\n",
            "Epoch / Batch [4 / 40] - Loss: 1.689\n",
            "Epoch / Batch [4 / 50] - Loss: 1.766\n",
            "Epoch / Batch [4 / 60] - Loss: 1.776\n",
            "Epoch / Batch [4 / 70] - Loss: 1.634\n",
            "Epoch / Batch [4 / 80] - Loss: 1.791\n",
            "Epoch / Batch [4 / 90] - Loss: 1.686\n",
            "Epoch / Batch [4 / 100] - Loss: 1.792\n",
            "Epoch / Batch [4 / 110] - Loss: 1.802\n",
            "Epoch / Batch [4 / 120] - Loss: 1.644\n",
            "Epoch / Batch [4 / 130] - Loss: 1.663\n",
            "Epoch / Batch [4 / 140] - Loss: 1.708\n",
            "Epoch / Batch [4 / 150] - Loss: 1.769\n",
            "Epoch / Batch [4 / 160] - Loss: 1.663\n",
            "Epoch / Batch [4 / 170] - Loss: 1.695\n",
            "Epoch / Batch [4 / 180] - Loss: 1.688\n",
            "Epoch / Batch [4 / 190] - Loss: 1.673\n",
            "Epoch / Batch [4 / 200] - Loss: 1.827\n",
            "Epoch / Batch [4 / 210] - Loss: 1.618\n",
            "Epoch / Batch [4 / 220] - Loss: 1.752\n",
            "Epoch / Batch [4 / 230] - Loss: 1.689\n",
            "Epoch / Batch [4 / 240] - Loss: 1.749\n",
            "Epoch / Batch [4 / 250] - Loss: 1.684\n",
            "Epoch / Batch [4 / 260] - Loss: 1.703\n",
            "Epoch / Batch [4 / 270] - Loss: 1.647\n",
            "Epoch / Batch [4 / 280] - Loss: 1.766\n",
            "Epoch / Batch [4 / 290] - Loss: 1.774\n",
            "Epoch / Batch [4 / 300] - Loss: 1.733\n",
            "Epoch / Batch [4 / 310] - Loss: 1.724\n",
            "Epoch / Batch [4 / 320] - Loss: 1.757\n",
            "Epoch / Batch [4 / 330] - Loss: 1.743\n",
            "Epoch / Batch [4 / 340] - Loss: 1.891\n",
            "Epoch / Batch [4 / 350] - Loss: 1.800\n",
            "Epoch / Batch [4 / 360] - Loss: 1.796\n",
            "Epoch / Batch [4 / 370] - Loss: 1.612\n",
            "Epoch / Batch [4 / 380] - Loss: 1.678\n",
            "Epoch / Batch [4 / 390] - Loss: 1.685\n",
            "Epoch / Batch [4 / 10] - Validation Loss: 2.283\n",
            "Epoch / Batch [4 / 20] - Validation Loss: 1.832\n",
            "Epoch / Batch [4 / 30] - Validation Loss: 1.852\n",
            "Epoch / Batch [4 / 40] - Validation Loss: 1.803\n",
            "Epoch / Batch [4 / 50] - Validation Loss: 1.664\n",
            "Epoch / Batch [5 / 10] - Loss: 1.683\n",
            "Epoch / Batch [5 / 20] - Loss: 1.780\n",
            "Epoch / Batch [5 / 30] - Loss: 1.730\n",
            "Epoch / Batch [5 / 40] - Loss: 1.615\n",
            "Epoch / Batch [5 / 50] - Loss: 1.715\n",
            "Epoch / Batch [5 / 60] - Loss: 1.819\n",
            "Epoch / Batch [5 / 70] - Loss: 1.608\n",
            "Epoch / Batch [5 / 80] - Loss: 1.701\n",
            "Epoch / Batch [5 / 90] - Loss: 1.600\n",
            "Epoch / Batch [5 / 100] - Loss: 1.598\n",
            "Epoch / Batch [5 / 110] - Loss: 1.602\n",
            "Epoch / Batch [5 / 120] - Loss: 1.745\n",
            "Epoch / Batch [5 / 130] - Loss: 1.676\n",
            "Epoch / Batch [5 / 140] - Loss: 1.588\n",
            "Epoch / Batch [5 / 150] - Loss: 1.547\n",
            "Epoch / Batch [5 / 160] - Loss: 1.617\n",
            "Epoch / Batch [5 / 170] - Loss: 1.534\n",
            "Epoch / Batch [5 / 180] - Loss: 1.618\n",
            "Epoch / Batch [5 / 190] - Loss: 1.799\n",
            "Epoch / Batch [5 / 200] - Loss: 1.619\n",
            "Epoch / Batch [5 / 210] - Loss: 1.678\n",
            "Epoch / Batch [5 / 220] - Loss: 1.623\n",
            "Epoch / Batch [5 / 230] - Loss: 1.522\n",
            "Epoch / Batch [5 / 240] - Loss: 1.704\n",
            "Epoch / Batch [5 / 250] - Loss: 1.632\n",
            "Epoch / Batch [5 / 260] - Loss: 1.694\n",
            "Epoch / Batch [5 / 270] - Loss: 1.654\n",
            "Epoch / Batch [5 / 280] - Loss: 1.590\n",
            "Epoch / Batch [5 / 290] - Loss: 1.752\n",
            "Epoch / Batch [5 / 300] - Loss: 1.827\n",
            "Epoch / Batch [5 / 310] - Loss: 1.599\n",
            "Epoch / Batch [5 / 320] - Loss: 1.719\n",
            "Epoch / Batch [5 / 330] - Loss: 1.438\n",
            "Epoch / Batch [5 / 340] - Loss: 1.680\n",
            "Epoch / Batch [5 / 350] - Loss: 1.651\n",
            "Epoch / Batch [5 / 360] - Loss: 1.617\n",
            "Epoch / Batch [5 / 370] - Loss: 1.468\n",
            "Epoch / Batch [5 / 380] - Loss: 1.470\n",
            "Epoch / Batch [5 / 390] - Loss: 1.643\n",
            "Epoch / Batch [5 / 10] - Validation Loss: 2.310\n",
            "Epoch / Batch [5 / 20] - Validation Loss: 1.808\n",
            "Epoch / Batch [5 / 30] - Validation Loss: 1.528\n",
            "Epoch / Batch [5 / 40] - Validation Loss: 1.637\n",
            "Epoch / Batch [5 / 50] - Validation Loss: 1.845\n",
            "Epoch / Batch [6 / 10] - Loss: 1.526\n",
            "Epoch / Batch [6 / 20] - Loss: 1.582\n",
            "Epoch / Batch [6 / 30] - Loss: 1.647\n",
            "Epoch / Batch [6 / 40] - Loss: 1.561\n",
            "Epoch / Batch [6 / 50] - Loss: 1.575\n",
            "Epoch / Batch [6 / 60] - Loss: 1.715\n",
            "Epoch / Batch [6 / 70] - Loss: 1.605\n",
            "Epoch / Batch [6 / 80] - Loss: 1.535\n",
            "Epoch / Batch [6 / 90] - Loss: 1.458\n",
            "Epoch / Batch [6 / 100] - Loss: 1.724\n",
            "Epoch / Batch [6 / 110] - Loss: 1.676\n",
            "Epoch / Batch [6 / 120] - Loss: 1.525\n",
            "Epoch / Batch [6 / 130] - Loss: 1.573\n",
            "Epoch / Batch [6 / 140] - Loss: 1.644\n",
            "Epoch / Batch [6 / 150] - Loss: 1.654\n",
            "Epoch / Batch [6 / 160] - Loss: 1.510\n",
            "Epoch / Batch [6 / 170] - Loss: 1.492\n",
            "Epoch / Batch [6 / 180] - Loss: 1.417\n",
            "Epoch / Batch [6 / 190] - Loss: 1.627\n",
            "Epoch / Batch [6 / 200] - Loss: 1.555\n",
            "Epoch / Batch [6 / 210] - Loss: 1.585\n",
            "Epoch / Batch [6 / 220] - Loss: 1.627\n",
            "Epoch / Batch [6 / 230] - Loss: 1.655\n",
            "Epoch / Batch [6 / 240] - Loss: 1.563\n",
            "Epoch / Batch [6 / 250] - Loss: 1.587\n",
            "Epoch / Batch [6 / 260] - Loss: 1.513\n",
            "Epoch / Batch [6 / 270] - Loss: 1.484\n",
            "Epoch / Batch [6 / 280] - Loss: 1.577\n",
            "Epoch / Batch [6 / 290] - Loss: 1.511\n",
            "Epoch / Batch [6 / 300] - Loss: 1.404\n",
            "Epoch / Batch [6 / 310] - Loss: 1.626\n",
            "Epoch / Batch [6 / 320] - Loss: 1.680\n",
            "Epoch / Batch [6 / 330] - Loss: 1.688\n",
            "Epoch / Batch [6 / 340] - Loss: 1.561\n",
            "Epoch / Batch [6 / 350] - Loss: 1.551\n",
            "Epoch / Batch [6 / 360] - Loss: 1.513\n",
            "Epoch / Batch [6 / 370] - Loss: 1.398\n",
            "Epoch / Batch [6 / 380] - Loss: 1.461\n",
            "Epoch / Batch [6 / 390] - Loss: 1.464\n",
            "Epoch / Batch [6 / 10] - Validation Loss: 2.308\n",
            "Epoch / Batch [6 / 20] - Validation Loss: 1.565\n",
            "Epoch / Batch [6 / 30] - Validation Loss: 1.529\n",
            "Epoch / Batch [6 / 40] - Validation Loss: 1.624\n",
            "Epoch / Batch [6 / 50] - Validation Loss: 1.648\n",
            "Red Filter:\n",
            "\n"
          ],
          "name": "stdout"
        },
        {
          "output_type": "display_data",
          "data": {
            "image/png": "[encoded data removed]",
            "text/plain": [
              "<Figure size 432x216 with 16 Axes>"
            ]
          },
          "metadata": {
            "tags": []
          }
        },
        {
          "output_type": "stream",
          "text": [
            "Green Filter:\n",
            "\n"
          ],
          "name": "stdout"
        },
        {
          "output_type": "display_data",
          "data": {
            "image/png": "[encoded data removed]",
            "text/plain": [
              "<Figure size 432x216 with 16 Axes>"
            ]
          },
          "metadata": {
            "tags": []
          }
        },
        {
          "output_type": "stream",
          "text": [
            "Blue Filter:\n",
            "\n"
          ],
          "name": "stdout"
        },
        {
          "output_type": "display_data",
          "data": {
            "image/png": "[encoded data removed]",
            "text/plain": [
              "<Figure size 432x216 with 16 Axes>"
            ]
          },
          "metadata": {
            "tags": []
          }
        },
        {
          "output_type": "stream",
          "text": [
            "Epoch / Batch [7 / 10] - Loss: 1.380\n",
            "Epoch / Batch [7 / 20] - Loss: 1.516\n",
            "Epoch / Batch [7 / 30] - Loss: 1.372\n",
            "Epoch / Batch [7 / 40] - Loss: 1.490\n",
            "Epoch / Batch [7 / 50] - Loss: 1.586\n",
            "Epoch / Batch [7 / 60] - Loss: 1.575\n",
            "Epoch / Batch [7 / 70] - Loss: 1.592\n",
            "Epoch / Batch [7 / 80] - Loss: 1.565\n",
            "Epoch / Batch [7 / 90] - Loss: 1.418\n",
            "Epoch / Batch [7 / 100] - Loss: 1.379\n",
            "Epoch / Batch [7 / 110] - Loss: 1.460\n",
            "Epoch / Batch [7 / 120] - Loss: 1.535\n",
            "Epoch / Batch [7 / 130] - Loss: 1.496\n",
            "Epoch / Batch [7 / 140] - Loss: 1.424\n",
            "Epoch / Batch [7 / 150] - Loss: 1.473\n",
            "Epoch / Batch [7 / 160] - Loss: 1.494\n",
            "Epoch / Batch [7 / 170] - Loss: 1.429\n",
            "Epoch / Batch [7 / 180] - Loss: 1.572\n",
            "Epoch / Batch [7 / 190] - Loss: 1.416\n",
            "Epoch / Batch [7 / 200] - Loss: 1.534\n",
            "Epoch / Batch [7 / 210] - Loss: 1.464\n",
            "Epoch / Batch [7 / 220] - Loss: 1.255\n",
            "Epoch / Batch [7 / 230] - Loss: 1.281\n",
            "Epoch / Batch [7 / 240] - Loss: 1.471\n",
            "Epoch / Batch [7 / 250] - Loss: 1.485\n",
            "Epoch / Batch [7 / 260] - Loss: 1.463\n",
            "Epoch / Batch [7 / 270] - Loss: 1.608\n",
            "Epoch / Batch [7 / 280] - Loss: 1.549\n",
            "Epoch / Batch [7 / 290] - Loss: 1.718\n",
            "Epoch / Batch [7 / 300] - Loss: 1.401\n",
            "Epoch / Batch [7 / 310] - Loss: 1.557\n",
            "Epoch / Batch [7 / 320] - Loss: 1.452\n",
            "Epoch / Batch [7 / 330] - Loss: 1.508\n",
            "Epoch / Batch [7 / 340] - Loss: 1.543\n",
            "Epoch / Batch [7 / 350] - Loss: 1.392\n",
            "Epoch / Batch [7 / 360] - Loss: 1.522\n",
            "Epoch / Batch [7 / 370] - Loss: 1.504\n",
            "Epoch / Batch [7 / 380] - Loss: 1.657\n",
            "Epoch / Batch [7 / 390] - Loss: 1.442\n",
            "Epoch / Batch [7 / 10] - Validation Loss: 2.061\n",
            "Epoch / Batch [7 / 20] - Validation Loss: 1.452\n",
            "Epoch / Batch [7 / 30] - Validation Loss: 1.387\n",
            "Epoch / Batch [7 / 40] - Validation Loss: 1.768\n",
            "Epoch / Batch [7 / 50] - Validation Loss: 1.736\n",
            "Epoch / Batch [8 / 10] - Loss: 1.404\n",
            "Epoch / Batch [8 / 20] - Loss: 1.372\n",
            "Epoch / Batch [8 / 30] - Loss: 1.613\n",
            "Epoch / Batch [8 / 40] - Loss: 1.565\n",
            "Epoch / Batch [8 / 50] - Loss: 1.521\n",
            "Epoch / Batch [8 / 60] - Loss: 1.335\n",
            "Epoch / Batch [8 / 70] - Loss: 1.478\n",
            "Epoch / Batch [8 / 80] - Loss: 1.448\n",
            "Epoch / Batch [8 / 90] - Loss: 1.306\n",
            "Epoch / Batch [8 / 100] - Loss: 1.333\n",
            "Epoch / Batch [8 / 110] - Loss: 1.511\n",
            "Epoch / Batch [8 / 120] - Loss: 1.370\n",
            "Epoch / Batch [8 / 130] - Loss: 1.321\n",
            "Epoch / Batch [8 / 140] - Loss: 1.447\n",
            "Epoch / Batch [8 / 150] - Loss: 1.246\n",
            "Epoch / Batch [8 / 160] - Loss: 1.360\n",
            "Epoch / Batch [8 / 170] - Loss: 1.323\n",
            "Epoch / Batch [8 / 180] - Loss: 1.360\n",
            "Epoch / Batch [8 / 190] - Loss: 1.397\n",
            "Epoch / Batch [8 / 200] - Loss: 1.269\n",
            "Epoch / Batch [8 / 210] - Loss: 1.295\n",
            "Epoch / Batch [8 / 220] - Loss: 1.401\n",
            "Epoch / Batch [8 / 230] - Loss: 1.385\n",
            "Epoch / Batch [8 / 240] - Loss: 1.549\n",
            "Epoch / Batch [8 / 250] - Loss: 1.470\n",
            "Epoch / Batch [8 / 260] - Loss: 1.362\n",
            "Epoch / Batch [8 / 270] - Loss: 1.489\n",
            "Epoch / Batch [8 / 280] - Loss: 1.462\n",
            "Epoch / Batch [8 / 290] - Loss: 1.379\n",
            "Epoch / Batch [8 / 300] - Loss: 1.341\n",
            "Epoch / Batch [8 / 310] - Loss: 1.338\n",
            "Epoch / Batch [8 / 320] - Loss: 1.410\n",
            "Epoch / Batch [8 / 330] - Loss: 1.467\n",
            "Epoch / Batch [8 / 340] - Loss: 1.444\n",
            "Epoch / Batch [8 / 350] - Loss: 1.318\n",
            "Epoch / Batch [8 / 360] - Loss: 1.507\n",
            "Epoch / Batch [8 / 370] - Loss: 1.495\n",
            "Epoch / Batch [8 / 380] - Loss: 1.535\n",
            "Epoch / Batch [8 / 390] - Loss: 1.487\n",
            "Epoch / Batch [8 / 10] - Validation Loss: 2.125\n",
            "Epoch / Batch [8 / 20] - Validation Loss: 1.521\n",
            "Epoch / Batch [8 / 30] - Validation Loss: 1.610\n",
            "Epoch / Batch [8 / 40] - Validation Loss: 1.477\n",
            "Epoch / Batch [8 / 50] - Validation Loss: 1.345\n",
            "Epoch / Batch [9 / 10] - Loss: 1.308\n",
            "Epoch / Batch [9 / 20] - Loss: 1.358\n",
            "Epoch / Batch [9 / 30] - Loss: 1.263\n",
            "Epoch / Batch [9 / 40] - Loss: 1.251\n",
            "Epoch / Batch [9 / 50] - Loss: 1.389\n",
            "Epoch / Batch [9 / 60] - Loss: 1.280\n",
            "Epoch / Batch [9 / 70] - Loss: 1.343\n",
            "Epoch / Batch [9 / 80] - Loss: 1.332\n",
            "Epoch / Batch [9 / 90] - Loss: 1.471\n",
            "Epoch / Batch [9 / 100] - Loss: 1.336\n",
            "Epoch / Batch [9 / 110] - Loss: 1.365\n",
            "Epoch / Batch [9 / 120] - Loss: 1.475\n",
            "Epoch / Batch [9 / 130] - Loss: 1.357\n",
            "Epoch / Batch [9 / 140] - Loss: 1.271\n",
            "Epoch / Batch [9 / 150] - Loss: 1.580\n",
            "Epoch / Batch [9 / 160] - Loss: 1.458\n",
            "Epoch / Batch [9 / 170] - Loss: 1.400\n",
            "Epoch / Batch [9 / 180] - Loss: 1.461\n",
            "Epoch / Batch [9 / 190] - Loss: 1.308\n",
            "Epoch / Batch [9 / 200] - Loss: 1.308\n",
            "Epoch / Batch [9 / 210] - Loss: 1.233\n",
            "Epoch / Batch [9 / 220] - Loss: 1.119\n",
            "Epoch / Batch [9 / 230] - Loss: 1.456\n",
            "Epoch / Batch [9 / 240] - Loss: 1.266\n",
            "Epoch / Batch [9 / 250] - Loss: 1.311\n",
            "Epoch / Batch [9 / 260] - Loss: 1.327\n",
            "Epoch / Batch [9 / 270] - Loss: 1.355\n",
            "Epoch / Batch [9 / 280] - Loss: 1.415\n",
            "Epoch / Batch [9 / 290] - Loss: 1.620\n",
            "Epoch / Batch [9 / 300] - Loss: 1.194\n",
            "Epoch / Batch [9 / 310] - Loss: 1.331\n",
            "Epoch / Batch [9 / 320] - Loss: 1.211\n",
            "Epoch / Batch [9 / 330] - Loss: 1.395\n",
            "Epoch / Batch [9 / 340] - Loss: 1.306\n",
            "Epoch / Batch [9 / 350] - Loss: 1.392\n",
            "Epoch / Batch [9 / 360] - Loss: 1.452\n",
            "Epoch / Batch [9 / 370] - Loss: 1.181\n",
            "Epoch / Batch [9 / 380] - Loss: 1.355\n",
            "Epoch / Batch [9 / 390] - Loss: 1.418\n",
            "Epoch / Batch [9 / 10] - Validation Loss: 2.175\n",
            "Epoch / Batch [9 / 20] - Validation Loss: 1.353\n",
            "Epoch / Batch [9 / 30] - Validation Loss: 1.481\n",
            "Epoch / Batch [9 / 40] - Validation Loss: 1.507\n",
            "Epoch / Batch [9 / 50] - Validation Loss: 1.623\n",
            "Epoch / Batch [10 / 10] - Loss: 1.286\n",
            "Epoch / Batch [10 / 20] - Loss: 1.177\n",
            "Epoch / Batch [10 / 30] - Loss: 1.171\n",
            "Epoch / Batch [10 / 40] - Loss: 1.240\n",
            "Epoch / Batch [10 / 50] - Loss: 1.433\n",
            "Epoch / Batch [10 / 60] - Loss: 1.261\n",
            "Epoch / Batch [10 / 70] - Loss: 1.181\n",
            "Epoch / Batch [10 / 80] - Loss: 1.340\n",
            "Epoch / Batch [10 / 90] - Loss: 1.453\n",
            "Epoch / Batch [10 / 100] - Loss: 1.341\n",
            "Epoch / Batch [10 / 110] - Loss: 1.051\n",
            "Epoch / Batch [10 / 120] - Loss: 1.257\n",
            "Epoch / Batch [10 / 130] - Loss: 1.189\n",
            "Epoch / Batch [10 / 140] - Loss: 1.299\n",
            "Epoch / Batch [10 / 150] - Loss: 1.264\n",
            "Epoch / Batch [10 / 160] - Loss: 1.322\n",
            "Epoch / Batch [10 / 170] - Loss: 1.305\n",
            "Epoch / Batch [10 / 180] - Loss: 1.314\n",
            "Epoch / Batch [10 / 190] - Loss: 1.243\n",
            "Epoch / Batch [10 / 200] - Loss: 1.236\n",
            "Epoch / Batch [10 / 210] - Loss: 1.347\n",
            "Epoch / Batch [10 / 220] - Loss: 1.430\n",
            "Epoch / Batch [10 / 230] - Loss: 1.497\n",
            "Epoch / Batch [10 / 240] - Loss: 1.319\n",
            "Epoch / Batch [10 / 250] - Loss: 1.364\n",
            "Epoch / Batch [10 / 260] - Loss: 1.162\n",
            "Epoch / Batch [10 / 270] - Loss: 1.120\n",
            "Epoch / Batch [10 / 280] - Loss: 1.281\n",
            "Epoch / Batch [10 / 290] - Loss: 1.407\n",
            "Epoch / Batch [10 / 300] - Loss: 1.343\n",
            "Epoch / Batch [10 / 310] - Loss: 1.220\n",
            "Epoch / Batch [10 / 320] - Loss: 1.164\n",
            "Epoch / Batch [10 / 330] - Loss: 1.201\n",
            "Epoch / Batch [10 / 340] - Loss: 1.182\n",
            "Epoch / Batch [10 / 350] - Loss: 1.381\n",
            "Epoch / Batch [10 / 360] - Loss: 1.501\n",
            "Epoch / Batch [10 / 370] - Loss: 1.233\n",
            "Epoch / Batch [10 / 380] - Loss: 1.319\n",
            "Epoch / Batch [10 / 390] - Loss: 1.273\n",
            "Epoch / Batch [10 / 10] - Validation Loss: 1.939\n",
            "Epoch / Batch [10 / 20] - Validation Loss: 1.533\n",
            "Epoch / Batch [10 / 30] - Validation Loss: 1.428\n",
            "Epoch / Batch [10 / 40] - Validation Loss: 1.504\n",
            "Epoch / Batch [10 / 50] - Validation Loss: 1.474\n",
            "Epoch / Batch [11 / 10] - Loss: 1.182\n",
            "Epoch / Batch [11 / 20] - Loss: 1.183\n",
            "Epoch / Batch [11 / 30] - Loss: 1.181\n",
            "Epoch / Batch [11 / 40] - Loss: 1.264\n",
            "Epoch / Batch [11 / 50] - Loss: 1.369\n",
            "Epoch / Batch [11 / 60] - Loss: 1.300\n",
            "Epoch / Batch [11 / 70] - Loss: 1.097\n",
            "Epoch / Batch [11 / 80] - Loss: 1.221\n",
            "Epoch / Batch [11 / 90] - Loss: 1.146\n",
            "Epoch / Batch [11 / 100] - Loss: 1.170\n",
            "Epoch / Batch [11 / 110] - Loss: 1.221\n",
            "Epoch / Batch [11 / 120] - Loss: 1.236\n",
            "Epoch / Batch [11 / 130] - Loss: 1.165\n",
            "Epoch / Batch [11 / 140] - Loss: 1.236\n",
            "Epoch / Batch [11 / 150] - Loss: 1.229\n",
            "Epoch / Batch [11 / 160] - Loss: 1.220\n",
            "Epoch / Batch [11 / 170] - Loss: 1.154\n",
            "Epoch / Batch [11 / 180] - Loss: 1.260\n",
            "Epoch / Batch [11 / 190] - Loss: 1.299\n",
            "Epoch / Batch [11 / 200] - Loss: 1.213\n",
            "Epoch / Batch [11 / 210] - Loss: 1.223\n",
            "Epoch / Batch [11 / 220] - Loss: 1.216\n",
            "Epoch / Batch [11 / 230] - Loss: 1.168\n",
            "Epoch / Batch [11 / 240] - Loss: 1.222\n",
            "Epoch / Batch [11 / 250] - Loss: 1.106\n",
            "Epoch / Batch [11 / 260] - Loss: 1.223\n",
            "Epoch / Batch [11 / 270] - Loss: 1.100\n",
            "Epoch / Batch [11 / 280] - Loss: 1.073\n",
            "Epoch / Batch [11 / 290] - Loss: 1.133\n",
            "Epoch / Batch [11 / 300] - Loss: 1.322\n",
            "Epoch / Batch [11 / 310] - Loss: 1.080\n",
            "Epoch / Batch [11 / 320] - Loss: 1.250\n",
            "Epoch / Batch [11 / 330] - Loss: 1.309\n",
            "Epoch / Batch [11 / 340] - Loss: 1.164\n",
            "Epoch / Batch [11 / 350] - Loss: 1.393\n",
            "Epoch / Batch [11 / 360] - Loss: 1.215\n",
            "Epoch / Batch [11 / 370] - Loss: 1.156\n",
            "Epoch / Batch [11 / 380] - Loss: 1.150\n",
            "Epoch / Batch [11 / 390] - Loss: 1.151\n",
            "Epoch / Batch [11 / 10] - Validation Loss: 2.032\n",
            "Epoch / Batch [11 / 20] - Validation Loss: 1.421\n",
            "Epoch / Batch [11 / 30] - Validation Loss: 1.384\n",
            "Epoch / Batch [11 / 40] - Validation Loss: 1.399\n",
            "Epoch / Batch [11 / 50] - Validation Loss: 1.335\n",
            "Epoch / Batch [12 / 10] - Loss: 1.009\n",
            "Epoch / Batch [12 / 20] - Loss: 1.266\n",
            "Epoch / Batch [12 / 30] - Loss: 1.143\n",
            "Epoch / Batch [12 / 40] - Loss: 1.169\n",
            "Epoch / Batch [12 / 50] - Loss: 1.033\n",
            "Epoch / Batch [12 / 60] - Loss: 1.126\n",
            "Epoch / Batch [12 / 70] - Loss: 1.126\n",
            "Epoch / Batch [12 / 80] - Loss: 1.061\n",
            "Epoch / Batch [12 / 90] - Loss: 1.129\n",
            "Epoch / Batch [12 / 100] - Loss: 0.979\n",
            "Epoch / Batch [12 / 110] - Loss: 1.084\n",
            "Epoch / Batch [12 / 120] - Loss: 1.203\n",
            "Epoch / Batch [12 / 130] - Loss: 1.276\n",
            "Epoch / Batch [12 / 140] - Loss: 1.030\n",
            "Epoch / Batch [12 / 150] - Loss: 1.049\n",
            "Epoch / Batch [12 / 160] - Loss: 1.125\n",
            "Epoch / Batch [12 / 170] - Loss: 1.130\n",
            "Epoch / Batch [12 / 180] - Loss: 1.098\n",
            "Epoch / Batch [12 / 190] - Loss: 1.141\n",
            "Epoch / Batch [12 / 200] - Loss: 1.070\n",
            "Epoch / Batch [12 / 210] - Loss: 1.030\n",
            "Epoch / Batch [12 / 220] - Loss: 1.035\n",
            "Epoch / Batch [12 / 230] - Loss: 1.319\n",
            "Epoch / Batch [12 / 240] - Loss: 1.113\n",
            "Epoch / Batch [12 / 250] - Loss: 1.046\n",
            "Epoch / Batch [12 / 260] - Loss: 1.083\n",
            "Epoch / Batch [12 / 270] - Loss: 1.223\n",
            "Epoch / Batch [12 / 280] - Loss: 1.068\n",
            "Epoch / Batch [12 / 290] - Loss: 1.161\n",
            "Epoch / Batch [12 / 300] - Loss: 1.148\n",
            "Epoch / Batch [12 / 310] - Loss: 1.101\n",
            "Epoch / Batch [12 / 320] - Loss: 1.202\n",
            "Epoch / Batch [12 / 330] - Loss: 1.019\n",
            "Epoch / Batch [12 / 340] - Loss: 1.240\n",
            "Epoch / Batch [12 / 350] - Loss: 1.188\n",
            "Epoch / Batch [12 / 360] - Loss: 1.220\n",
            "Epoch / Batch [12 / 370] - Loss: 1.291\n",
            "Epoch / Batch [12 / 380] - Loss: 1.140\n",
            "Epoch / Batch [12 / 390] - Loss: 1.175\n",
            "Epoch / Batch [12 / 10] - Validation Loss: 2.041\n",
            "Epoch / Batch [12 / 20] - Validation Loss: 1.494\n",
            "Epoch / Batch [12 / 30] - Validation Loss: 1.395\n",
            "Epoch / Batch [12 / 40] - Validation Loss: 1.488\n",
            "Epoch / Batch [12 / 50] - Validation Loss: 1.586\n"
          ],
          "name": "stdout"
        }
      ]
    },
    {
      "cell_type": "markdown",
      "metadata": {
        "id": "hz1nmDtduwgd",
        "colab_type": "text"
      },
      "source": [
        "# PLotting graph of training vs validation"
      ]
    },
    {
      "cell_type": "code",
      "metadata": {
        "id": "UIGu682RuvG6",
        "colab_type": "code",
        "colab": {
          "base_uri": "https://localhost:8080/",
          "height": 312
        },
        "outputId": "7af17459-d9a2-459a-f8bf-6315c0e373e8"
      },
      "source": [
        "    train, = plt.plot(training_loss, label = \"Training Loss\")\n",
        "    valid, = plt.plot(validation_loss, label = \"Validation Loss\")\n",
        "    plt.legend(handles=[valid, train])\n",
        "    plt.xlabel(\"Epoch\")\n",
        "    plt.ylabel(\"Loss\")\n",
        "    plt.grid()\n",
        "    plt.title(\"Training loss vs Validation loss\")"
      ],
      "execution_count": 93,
      "outputs": [
        {
          "output_type": "execute_result",
          "data": {
            "text/plain": [
              "Text(0.5, 1.0, 'Training loss vs Validation loss')"
            ]
          },
          "metadata": {
            "tags": []
          },
          "execution_count": 93
        },
        {
          "output_type": "display_data",
          "data": {
            "image/png": "[encoded data removed]",
            "text/plain": [
              "<Figure size 432x288 with 1 Axes>"
            ]
          },
          "metadata": {
            "tags": []
          }
        }
      ]
    },
    {
      "cell_type": "code",
      "metadata": {
        "id": "Xj4nAKmq0MHv",
        "colab_type": "code",
        "colab": {
          "base_uri": "https://localhost:8080/",
          "height": 34
        },
        "outputId": "02e08e95-85f0-431a-fd0b-e1dee95add2d"
      },
      "source": [
        "gpu_train_time"
      ],
      "execution_count": 94,
      "outputs": [
        {
          "output_type": "execute_result",
          "data": {
            "text/plain": [
              "623.3264751120005"
            ]
          },
          "metadata": {
            "tags": []
          },
          "execution_count": 94
        }
      ]
    },
    {
      "cell_type": "code",
      "metadata": {
        "id": "O4mUuwllNCZh",
        "colab_type": "code",
        "colab": {
          "base_uri": "https://localhost:8080/",
          "height": 34
        },
        "outputId": "a53e1bb6-7a5e-426c-8809-11f629f6d330"
      },
      "source": [
        "correct = 0\n",
        "total = 0\n",
        "first = True\n",
        "class_correct = list(0. for i in range(10))\n",
        "class_total = list(0. for i in range(10))\n",
        "# Why don't we need gradients? What happens if we do include gradients?\n",
        "with torch.no_grad():\n",
        "    \n",
        "    # Iterate over the test set\n",
        "    for data in test_loader:\n",
        "        images, labels = data\n",
        "        images = images.to(device)\n",
        "        labels = labels.to(device)\n",
        "        \n",
        "        outputs = model_gpu(images)\n",
        "        \n",
        "        # torch.max is an argmax operation\n",
        "        _, predicted = torch.max(outputs.data, 1)\n",
        "        \n",
        "        if first:\n",
        "          total_predicted = predicted.clone()\n",
        "          total_labels = labels.clone()\n",
        "          first = False\n",
        "        else:\n",
        "          total_predicted = torch.cat((total_predicted,predicted))\n",
        "          total_labels = torch.cat((total_labels,labels))\n",
        "        total += labels.size(0)\n",
        "        correct += (predicted == labels).sum().item()\n",
        "\n",
        "print('Accuracy of the network on the test images: %d %%' % (100 * correct / total))"
      ],
      "execution_count": 95,
      "outputs": [
        {
          "output_type": "stream",
          "text": [
            "Accuracy of the network on the test images: 49 %\n"
          ],
          "name": "stdout"
        }
      ]
    },
    {
      "cell_type": "code",
      "metadata": {
        "id": "N2soTNiHLZoj",
        "colab_type": "code",
        "colab": {}
      },
      "source": [
        "torch.save(model_gpu.state_dict(), './myinit_model.pt') \n",
        "from sklearn.metrics import confusion_matrix\n",
        "import matplotlib.pyplot as plt\n",
        "cm = confusion_matrix(labels.cpu(), predicted.cpu())"
      ],
      "execution_count": 0,
      "outputs": []
    },
    {
      "cell_type": "markdown",
      "metadata": {
        "id": "cBQGFU14gJWt",
        "colab_type": "text"
      },
      "source": [
        "Visualization after Training"
      ]
    },
    {
      "cell_type": "code",
      "metadata": {
        "id": "fxGLFPjlgH4h",
        "colab_type": "code",
        "colab": {
          "base_uri": "https://localhost:8080/",
          "height": 650
        },
        "outputId": "c3b6faef-cda0-4aa2-f580-f81abe0dae9c"
      },
      "source": [
        "vis_filters()"
      ],
      "execution_count": 97,
      "outputs": [
        {
          "output_type": "stream",
          "text": [
            "Red Filter:\n",
            "\n"
          ],
          "name": "stdout"
        },
        {
          "output_type": "display_data",
          "data": {
            "image/png": "[encoded data removed]",
            "text/plain": [
              "<Figure size 432x216 with 16 Axes>"
            ]
          },
          "metadata": {
            "tags": []
          }
        },
        {
          "output_type": "stream",
          "text": [
            "Green Filter:\n",
            "\n"
          ],
          "name": "stdout"
        },
        {
          "output_type": "display_data",
          "data": {
            "image/png": "[encoded data removed]",
            "text/plain": [
              "<Figure size 432x216 with 16 Axes>"
            ]
          },
          "metadata": {
            "tags": []
          }
        },
        {
          "output_type": "stream",
          "text": [
            "Blue Filter:\n",
            "\n"
          ],
          "name": "stdout"
        },
        {
          "output_type": "display_data",
          "data": {
            "image/png": "[encoded data removed]",
            "text/plain": [
              "<Figure size 432x216 with 16 Axes>"
            ]
          },
          "metadata": {
            "tags": []
          }
        }
      ]
    },
    {
      "cell_type": "markdown",
      "metadata": {
        "id": "O6GLC8K96w-6",
        "colab_type": "text"
      },
      "source": [
        "# Question 3: Feature Maps"
      ]
    },
    {
      "cell_type": "code",
      "metadata": {
        "id": "G1ERoOEn6067",
        "colab_type": "code",
        "colab": {
          "base_uri": "https://localhost:8080/",
          "height": 286
        },
        "outputId": "76120908-5e66-47b6-a820-c797db491273"
      },
      "source": [
        "\n",
        "activation = {}\n",
        "def get_activation(name):\n",
        "    def hook(model, input, output):\n",
        "        activation[name] = output.detach()\n",
        "    return hook\n",
        "    \n",
        "model_gpu.conv1[0].register_forward_hook(get_activation('conv1'))\n",
        "data, _ = ins_dataset_train[0]\n",
        "data.unsqueeze_(0)\n",
        "model_cpu = model_gpu.cpu()\n",
        "output = model_gpu(data)\n",
        "\n",
        "act = activation['conv1'].squeeze()\n",
        "print(act.size())\n",
        "fig, axarr = plt.subplots(2,2)\n",
        "for idx in range(act.size(0)):\n",
        "    axarr[0,0].imshow(act[0], cmap=\"gray\")\n",
        "    axarr[0,1].imshow(act[1], cmap=\"gray\")\n",
        "    axarr[1,0].imshow(act[2], cmap=\"gray\")\n",
        "    axarr[1,1].imshow(act[3], cmap=\"gray\")"
      ],
      "execution_count": 98,
      "outputs": [
        {
          "output_type": "stream",
          "text": [
            "torch.Size([16, 254, 254])\n"
          ],
          "name": "stdout"
        },
        {
          "output_type": "display_data",
          "data": {
            "image/png": "[encoded data removed]",
            "text/plain": [
              "<Figure size 432x288 with 4 Axes>"
            ]
          },
          "metadata": {
            "tags": []
          }
        }
      ]
    },
    {
      "cell_type": "code",
      "metadata": {
        "id": "K6mUzkSU66a3",
        "colab_type": "code",
        "colab": {
          "base_uri": "https://localhost:8080/",
          "height": 269
        },
        "outputId": "a9736359-ee83-4556-eab6-d681a65d9ccf"
      },
      "source": [
        "\n",
        "activation = {}\n",
        "def get_activation(name):\n",
        "    def hook(model, input, output):\n",
        "        activation[name] = output.detach()\n",
        "    return hook\n",
        "model_gpu.conv2[0].register_forward_hook(get_activation('conv2'))\n",
        "data, _ = ins_dataset_train[0]\n",
        "data.unsqueeze_(0)\n",
        "model_cpu = model_gpu.cpu()\n",
        "output = model_cpu(data)\n",
        "\n",
        "act = activation['conv2'].squeeze()\n",
        "fig, axarr = plt.subplots(2,2)\n",
        "for idx in range(act.size(0)):\n",
        "    axarr[0,0].imshow(act[0], cmap=\"gray\")\n",
        "    axarr[0,1].imshow(act[1], cmap=\"gray\")\n",
        "    axarr[1,0].imshow(act[2], cmap=\"gray\")\n",
        "    axarr[1,1].imshow(act[3], cmap=\"gray\")"
      ],
      "execution_count": 99,
      "outputs": [
        {
          "output_type": "display_data",
          "data": {
            "image/png": "[encoded data removed]",
            "text/plain": [
              "<Figure size 432x288 with 4 Axes>"
            ]
          },
          "metadata": {
            "tags": []
          }
        }
      ]
    },
    {
      "cell_type": "code",
      "metadata": {
        "id": "Tx0x6dnO67Uh",
        "colab_type": "code",
        "colab": {
          "base_uri": "https://localhost:8080/",
          "height": 269
        },
        "outputId": "9913ce4f-b16d-43d0-a33e-684616ef7a58"
      },
      "source": [
        "\n",
        "activation = {}\n",
        "def get_activation(name):\n",
        "    def hook(model, input, output):\n",
        "        activation[name] = output.detach()\n",
        "    return hook\n",
        "model_gpu.conv3[0].register_forward_hook(get_activation('conv3'))\n",
        "data, _ = ins_dataset_train[0]\n",
        "data.unsqueeze_(0)\n",
        "model_cpu = model_gpu.cpu()\n",
        "output = model_cpu(data)\n",
        "\n",
        "act = activation['conv3'].squeeze()\n",
        "fig, axarr = plt.subplots(2,2)\n",
        "for idx in range(act.size(0)):\n",
        "    axarr[0,0].imshow(act[0], cmap=\"gray\")\n",
        "    axarr[0,1].imshow(act[1], cmap=\"gray\")\n",
        "    axarr[1,0].imshow(act[2], cmap=\"gray\")\n",
        "    axarr[1,1].imshow(act[3], cmap=\"gray\")"
      ],
      "execution_count": 100,
      "outputs": [
        {
          "output_type": "display_data",
          "data": {
            "image/png": "[encoded data removed]",
            "text/plain": [
              "<Figure size 432x288 with 4 Axes>"
            ]
          },
          "metadata": {
            "tags": []
          }
        }
      ]
    },
    {
      "cell_type": "code",
      "metadata": {
        "id": "RKft14kXDgVk",
        "colab_type": "code",
        "colab": {
          "base_uri": "https://localhost:8080/",
          "height": 267
        },
        "outputId": "3312ea8c-b07f-44fd-c258-b9a124b50da1"
      },
      "source": [
        "\n",
        "activation = {}\n",
        "def get_activation(name):\n",
        "    def hook(model, input, output):\n",
        "        activation[name] = output.detach()\n",
        "    return hook\n",
        "model_gpu.conv4[0].register_forward_hook(get_activation('conv4'))\n",
        "data, _ = ins_dataset_train[0]\n",
        "data.unsqueeze_(0)\n",
        "model_cpu = model_gpu.cpu()\n",
        "output = model_cpu(data)\n",
        "\n",
        "act = activation['conv4'].squeeze()\n",
        "fig, axarr = plt.subplots(2,2)\n",
        "for idx in range(act.size(0)):\n",
        "    axarr[0,0].imshow(act[0], cmap=\"gray\")\n",
        "    axarr[0,1].imshow(act[1], cmap=\"gray\")\n",
        "    axarr[1,0].imshow(act[2], cmap=\"gray\")\n",
        "    axarr[1,1].imshow(act[3], cmap=\"gray\")"
      ],
      "execution_count": 101,
      "outputs": [
        {
          "output_type": "display_data",
          "data": {
            "image/png": "[encoded data removed]",
            "text/plain": [
              "<Figure size 432x288 with 4 Axes>"
            ]
          },
          "metadata": {
            "tags": []
          }
        }
      ]
    },
    {
      "cell_type": "code",
      "metadata": {
        "id": "jQWVnYeAK6vu",
        "colab_type": "code",
        "colab": {
          "base_uri": "https://localhost:8080/",
          "height": 314
        },
        "outputId": "3300a46d-ce1a-460d-ab9a-d59358e3d1a1"
      },
      "source": [
        "import itertools\n",
        "def plot_confusion_matrix(cm,\n",
        "                          classes,\n",
        "                          normalize=False,\n",
        "                          title='Confusion matrix',\n",
        "                          cmap=plt.cm.Blues):\n",
        "    \"\"\"\n",
        "    This function prints and plots the confusion matrix very prettily.\n",
        "    Normalization can be applied by setting `normalize=True`.\n",
        "    \"\"\"\n",
        "    if normalize:\n",
        "        cm = cm.astype('float') / cm.sum(axis=1)[:, np.newaxis]\n",
        "        print(\"Normalized confusion matrix\")\n",
        "    else:\n",
        "        print('Confusion matrix, without normalization')\n",
        "\n",
        "    plt.imshow(cm, interpolation='nearest', cmap=cmap)\n",
        "    plt.title(title)\n",
        "\n",
        "    # Specify the tick marks and axis text\n",
        "    tick_marks = np.arange(len(classes))\n",
        "    plt.xticks(tick_marks, classes, rotation=90)\n",
        "    plt.yticks(tick_marks, classes)\n",
        "\n",
        "    # The data formatting\n",
        "    fmt = '.2f' if normalize else 'd'\n",
        "    thresh = cm.max() / 2.\n",
        "    \n",
        "    # Print the text of the matrix, adjusting text colour for display\n",
        "    for i, j in itertools.product(range(cm.shape[0]), range(cm.shape[1])):\n",
        "        plt.text(j, i, format(cm[i, j], fmt),\n",
        "                 horizontalalignment=\"center\",\n",
        "                 color=\"white\" if cm[i, j] > thresh else \"black\")\n",
        "\n",
        "    plt.ylabel('True label')\n",
        "    plt.xlabel('Predicted label')\n",
        "    plt.tight_layout()\n",
        "    plt.show()\n",
        "cm = confusion_matrix(total_labels.cpu() , total_predicted.cpu())\n",
        "plot_confusion_matrix(cm,classes)"
      ],
      "execution_count": 102,
      "outputs": [
        {
          "output_type": "stream",
          "text": [
            "Confusion matrix, without normalization\n"
          ],
          "name": "stdout"
        },
        {
          "output_type": "display_data",
          "data": {
            "image/png": "[encoded data removed]",
            "text/plain": [
              "<Figure size 432x288 with 1 Axes>"
            ]
          },
          "metadata": {
            "tags": []
          }
        }
      ]
    }
  ]
}